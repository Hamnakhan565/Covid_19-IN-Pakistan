{
  "nbformat": 4,
  "nbformat_minor": 0,
  "metadata": {
    "kernelspec": {
      "display_name": "Python 3",
      "language": "python",
      "name": "python3"
    },
    "language_info": {
      "codemirror_mode": {
        "name": "ipython",
        "version": 3
      },
      "file_extension": ".py",
      "mimetype": "text/x-python",
      "name": "python",
      "nbconvert_exporter": "python",
      "pygments_lexer": "ipython3",
      "version": "3.7.4"
    },
    "colab": {
      "name": "code.ipynb",
      "provenance": [],
      "collapsed_sections": []
    }
  },
  "cells": [
    {
      "cell_type": "code",
      "metadata": {
        "id": "AcHSuRNGfnf4",
        "colab_type": "code",
        "colab": {}
      },
      "source": [
        "import pandas as pd\n",
        "import seaborn as sns\n",
        "from datetime import datetime\n",
        "import numpy as np\n"
      ],
      "execution_count": 0,
      "outputs": []
    },
    {
      "cell_type": "code",
      "metadata": {
        "id": "W7jixAg_fngP",
        "colab_type": "code",
        "colab": {}
      },
      "source": [
        "data1=pd.read_excel('COVID_FINAL_DATA.xlsx',sheet_name='TimeSeries_KeyIndicators')\n",
        "data2=pd.read_excel('COVID_FINAL_DATA.xlsx',sheet_name='TimeSeries_KeyIndicators_Detail')\n",
        "data3=pd.read_excel('COVID_FINAL_DATA.xlsx',sheet_name='TimeSeries_Action_Screen')\n",
        "data4=pd.read_excel('COVID_FINAL_DATA.xlsx',sheet_name='TimeSeries_Action_Call')\n",
        "data5=pd.read_excel('COVID_FINAL_DATA.xlsx',sheet_name='TimeSeries_COVID_News')\n",
        "data6=pd.read_excel('COVID_FINAL_DATA.xlsx',sheet_name='TimeSeries_NIH_Response')\n",
        "data7=pd.read_excel('COVID_FINAL_DATA.xlsx',sheet_name='TimeSeries_NIH_Risk')\n",
        "data8=pd.read_excel('COVID_FINAL_DATA.xlsx',sheet_name='TimeSeries_Province_Response')\n",
        "data9=pd.read_excel('COVID_FINAL_DATA.xlsx',sheet_name='TimeSeries_Helpline_Calls')\n",
        "data10=pd.read_excel('COVID_FINAL_DATA.xlsx',sheet_name='TimeSeries_Quarantine_Details')"
      ],
      "execution_count": 0,
      "outputs": []
    },
    {
      "cell_type": "code",
      "metadata": {
        "id": "TFuP6HPvfngb",
        "colab_type": "code",
        "outputId": "54de842b-21b7-4c88-a148-8c8b01af6be4",
        "colab": {
          "base_uri": "https://localhost:8080/",
          "height": 34
        }
      },
      "source": [
        "data1.columns=data1.columns.str.strip().str.lower().str.replace(' ','_')\n",
        "data1.drop(['no_heading'],axis=1,inplace=True)\n",
        "data1=data1.dropna(how='all')\n",
        "data1=data1.fillna(0)\n",
        "data1['date']=pd.to_datetime(data1['date'])\n",
        "data1['tests__performed_in_last_24_hours']= data1['tests__performed_in_last_24_hours'].apply(np.int64)\n",
        "data1['tests__performed_in_last_24_hours']=pd.to_numeric(data1['tests__performed_in_last_24_hours'])\n",
        "data1['home_quarantine']=data1['home_quarantine'].apply(np.int64)\n",
        "datetime_object=datetime.now() \n",
        "print(datetime_object)\n",
        "data1['date']=pd.to_datetime(data1['date'],format=\"%d/%m/%y/\")\n",
        "data1['date']=pd.to_datetime(data1['date'])\n",
        "data1['date']=data1['date'].dt.strftime('%m/%d/%y')\n",
        "\n",
        "\n"
      ],
      "execution_count": 179,
      "outputs": [
        {
          "output_type": "stream",
          "text": [
            "2020-05-26 19:02:31.635314\n"
          ],
          "name": "stdout"
        }
      ]
    },
    {
      "cell_type": "code",
      "metadata": {
        "id": "KMipy4SMwwcq",
        "colab_type": "code",
        "colab": {}
      },
      "source": [
        ""
      ],
      "execution_count": 0,
      "outputs": []
    },
    {
      "cell_type": "code",
      "metadata": {
        "colab_type": "code",
        "id": "4HUmebS3wxZw",
        "colab": {}
      },
      "source": [
        "data2.columns=data2.columns.str.strip().str.lower().str.replace(' ','_')\n",
        "data2['date']=pd.to_datetime(data2['date'])\n",
        "data2['date']=data2['date'].dt.strftime('%m/%d/%y')\n",
        "\n"
      ],
      "execution_count": 0,
      "outputs": []
    },
    {
      "cell_type": "code",
      "metadata": {
        "id": "TyZPUI52fniD",
        "colab_type": "code",
        "colab": {}
      },
      "source": [
        "data3.columns=data3.columns.str.strip().str.lower().str.replace(' ','_')\n",
        "data3['date']=pd.to_datetime(data3['date'])\n",
        "data3['date']=data3['date'].dt.strftime('%m/%d/%y')\n",
        "\n"
      ],
      "execution_count": 0,
      "outputs": []
    },
    {
      "cell_type": "code",
      "metadata": {
        "id": "5CIxGQi9fni1",
        "colab_type": "code",
        "colab": {}
      },
      "source": [
        ""
      ],
      "execution_count": 0,
      "outputs": []
    },
    {
      "cell_type": "code",
      "metadata": {
        "id": "mPBqGIAefnjM",
        "colab_type": "code",
        "colab": {}
      },
      "source": [
        "data4.columns=data4.columns.str.strip().str.lower().str.replace(' ','-')\n",
        "data4['date']=pd.to_datetime(data4['date'])\n",
        "data4['date']=data4['date'].dt.strftime('%m/%d/%y')\n"
      ],
      "execution_count": 0,
      "outputs": []
    },
    {
      "cell_type": "code",
      "metadata": {
        "id": "gEGoMFa3mECg",
        "colab_type": "code",
        "outputId": "3d5cb317-bbf2-42c2-88f4-ae8c0287ae5b",
        "colab": {
          "base_uri": "https://localhost:8080/",
          "height": 85
        }
      },
      "source": [
        "data5.columns=data5.columns.str.strip().str.lower().str.replace(' ','-')\n",
        "data5.drop(['no_heading'],axis=1,inplace=True)\n",
        "data5['date']=pd.to_datetime(data5['date'])\n",
        "data5['date']=data5['date'].dt.strftime('%m/%d/%y')\n",
        "data5.isnull().sum()"
      ],
      "execution_count": 183,
      "outputs": [
        {
          "output_type": "execute_result",
          "data": {
            "text/plain": [
              "date        0\n",
              "news        0\n",
              "agg-news    0\n",
              "dtype: int64"
            ]
          },
          "metadata": {
            "tags": []
          },
          "execution_count": 183
        }
      ]
    },
    {
      "cell_type": "code",
      "metadata": {
        "id": "neDvOeCNOlzp",
        "colab_type": "code",
        "colab": {}
      },
      "source": [
        ""
      ],
      "execution_count": 0,
      "outputs": []
    },
    {
      "cell_type": "code",
      "metadata": {
        "id": "Wo-fnsWymEW8",
        "colab_type": "code",
        "colab": {}
      },
      "source": [
        "data6.columns=data6.columns.str.strip().str.lower().str.replace(' ','-')\n",
        "data6.drop(['no_heading'],axis=1,inplace=True)\n",
        "data6['date']=pd.to_datetime(data6['date'])\n",
        "data6['date']=data6['date'].dt.strftime('%m/%d/%y')\n"
      ],
      "execution_count": 0,
      "outputs": []
    },
    {
      "cell_type": "code",
      "metadata": {
        "id": "PpLGGBIvPhtV",
        "colab_type": "code",
        "colab": {}
      },
      "source": [
        ""
      ],
      "execution_count": 0,
      "outputs": []
    },
    {
      "cell_type": "code",
      "metadata": {
        "id": "Jom6yIoZfnjq",
        "colab_type": "code",
        "colab": {}
      },
      "source": [
        "data7.columns=data7.columns.str.strip().str.lower().str.replace(' ','-')\n",
        "data7.drop(['no_heading'],axis=1,inplace=True)\n",
        "data7['date']=pd.to_datetime(data7['date'])\n",
        "data7['date']=data7['date'].dt.strftime('%m/%d/%y')\n",
        "data7['risk-assessment-nih']=data7['risk-assessment-nih'].str.lower()\n"
      ],
      "execution_count": 0,
      "outputs": []
    },
    {
      "cell_type": "code",
      "metadata": {
        "id": "TcF-4eJefnj5",
        "colab_type": "code",
        "colab": {}
      },
      "source": [
        "data8.columns=data8.columns.str.strip().str.lower().str.replace(' ','-')\n",
        "data8.drop(['no-heading'],axis=1,inplace=True)\n",
        "data8['date']=pd.to_datetime(data8['date'])\n",
        "data8['date']=data8['date'].dt.strftime('%m/%d/%y')\n",
        "\n"
      ],
      "execution_count": 0,
      "outputs": []
    },
    {
      "cell_type": "code",
      "metadata": {
        "id": "yigBKXCpfnkY",
        "colab_type": "code",
        "colab": {}
      },
      "source": [
        "data9.columns=data9.columns.str.strip().str.lower().str.replace(' ','-')\n",
        "data9.drop(['no_heading'],axis=1,inplace=True)\n",
        "data9['date']=pd.to_datetime(data9['date'])\n",
        "data9['date']=data9['date'].dt.strftime('%m/%d/%y')\n",
        "\n"
      ],
      "execution_count": 0,
      "outputs": []
    },
    {
      "cell_type": "code",
      "metadata": {
        "id": "99_M7s9elGah",
        "colab_type": "code",
        "colab": {}
      },
      "source": [
        "data10.columns=data10.columns.str.strip().str.lower().str.replace(' ','-')\n",
        "data10.drop(['no_heading'],axis=1,inplace=True)\n",
        "data10['date']=pd.to_datetime(data9['date'])\n",
        "data10['date']=data10['date'].dt.strftime('%m/%d/%y')\n"
      ],
      "execution_count": 0,
      "outputs": []
    },
    {
      "cell_type": "code",
      "metadata": {
        "id": "rLWd6Np1lyFe",
        "colab_type": "code",
        "colab": {}
      },
      "source": [
        "writer =pd.ExcelWriter('final.xlsx')\n",
        "data1.to_excel(writer,index=False,sheet_name='TimeSeries_KeyIndicators')\n",
        "data2.to_excel(writer,index=False,sheet_name='TimeSeries_KeyIndicators_Detail')\n",
        "data3.to_excel(writer,index=False,sheet_name='TimeSeries_Action_Screen')\n",
        "data4.to_excel(writer,index=False,sheet_name='TimeSeries_Action_Call')\n",
        "data5.to_excel(writer,index=False,sheet_name='TimeSeries_COVID_News')\n",
        "data6.to_excel(writer,index=False,sheet_name='TimeSeries_NIH_Response')\n",
        "data7.to_excel(writer,index=False,sheet_name='TimeSeries_NIH_Risk')\n",
        "data8.to_excel(writer,index=False,sheet_name='TimeSeries_Province_Response')\n",
        "data9.to_excel(writer,index=False,sheet_name='TimeSeries_Helpline_Calls')\n",
        "data10.to_excel(writer,index=False,sheet_name='TimeSeries_Quarantine_Details')\n",
        "#workbook=writer.bookworksheet=writer.sheets['TimeSeries_KeyIndicators','TimeSeries_Action_Screen','TimeSeries_Action_Call','TimeSeries_COVID_News','TimeSeries_NIH_Response','TimeSeries_NIH_Risk','TimeSeries_Helpline_Calls','TimeSeries_Quarantine_Details','TimeSeries_Province_Response']\n",
        "writer.save()"
      ],
      "execution_count": 0,
      "outputs": []
    },
    {
      "cell_type": "markdown",
      "metadata": {
        "id": "HOV2I_WLprCS",
        "colab_type": "text"
      },
      "source": [
        ""
      ]
    },
    {
      "cell_type": "code",
      "metadata": {
        "id": "2WJ5oevFpshc",
        "colab_type": "code",
        "colab": {}
      },
      "source": [
        ""
      ],
      "execution_count": 0,
      "outputs": []
    }
  ]
}